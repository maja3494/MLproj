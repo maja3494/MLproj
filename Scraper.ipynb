{
 "cells": [
  {
   "cell_type": "code",
   "execution_count": 24,
   "metadata": {},
   "outputs": [],
   "source": [
    "import requests\n",
    "from bs4 import BeautifulSoup\n",
    "def fileSaver(data, siteNumber, year):\n",
    "    file=open(siteNumber+year+\".txt\",\"x\")\n",
    "    file.write(data)\n",
    "    file.close()\n",
    "    return None\n",
    "\n",
    "def scraper(siteNumber, year):\n",
    "    URL='https://waterservices.usgs.gov/nwis/stat/?format=rdb&sites='+siteNumber+'&startDT='+year+'-01-01&endDT='+year+'-12-31&statReportType=daily&statTypeCd=mean'\n",
    "    page=requests.get(URL)\n",
    "    soup=BeautifulSoup(page.content,'html.parser')\n",
    "    results=soup.get_text()\n",
    "    file=open(siteNumber+\"_\"+year+\".csv\",\"x\")\n",
    "    file.write(results)\n",
    "    file.close()\n",
    "\n",
    "def scrapeRange(siteNumber,startYear,endYear):\n",
    "    for i in range(int(startYear),int(endYear)):\n",
    "        scraper(siteNumber,str(i))\n",
    "\n",
    "#scrapeRange(1,2007,2019)\n",
    "siteNumber=['06730200','06727500','06736000','06752260','06751490','06719505','06716500','06700000','07096000',\n",
    "           '07094500']\n",
    "startYear='2007'\n",
    "endYear='2020'\n",
    "for i in siteNumber:\n",
    "    test=scrapeRange(i,startYear,endYear)\n",
    "#print(results)"
   ]
  },
  {
   "cell_type": "code",
   "execution_count": null,
   "metadata": {},
   "outputs": [],
   "source": []
  }
 ],
 "metadata": {
  "kernelspec": {
   "display_name": "Python 3",
   "language": "python",
   "name": "python3"
  },
  "language_info": {
   "codemirror_mode": {
    "name": "ipython",
    "version": 3
   },
   "file_extension": ".py",
   "mimetype": "text/x-python",
   "name": "python",
   "nbconvert_exporter": "python",
   "pygments_lexer": "ipython3",
   "version": "3.8.5"
  }
 },
 "nbformat": 4,
 "nbformat_minor": 4
}
